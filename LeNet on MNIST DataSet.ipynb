{
 "cells": [
  {
   "cell_type": "code",
   "execution_count": 4,
   "id": "c340292c",
   "metadata": {},
   "outputs": [],
   "source": [
    "#install the requirements.\n",
    "import torch\n",
    "import torch.nn as nn\n",
    "from torchvision import datasets\n",
    "from torchvision.transforms import ToTensor\n",
    "import torch.nn.functional as F\n",
    "from torch.utils.data import DataLoader, random_split\n",
    "import torch.optim as optim\n",
    "#----------------------------------\n",
    "import matplotlib.pyplot as plt\n",
    "import numpy as np\n"
   ]
  },
  {
   "cell_type": "code",
   "execution_count": 5,
   "id": "dd6fb445",
   "metadata": {},
   "outputs": [],
   "source": [
    "#load the datasets from PyTorch.\n",
    "\n",
    "data_train = datasets.MNIST('./data',\n",
    "        download=True,train=True,transform=ToTensor())\n",
    "data_test = datasets.MNIST('./data',\n",
    "        download=True,train=False,transform=ToTensor())"
   ]
  },
  {
   "cell_type": "code",
   "execution_count": 6,
   "id": "b757d903",
   "metadata": {},
   "outputs": [],
   "source": [
    "#split the training data into training and validation datatest as well. \n",
    "\n",
    "train_size = int(0.8 * len(data_train))\n",
    "val_size = len(data_train) - train_size\n",
    "data_train, data_val = random_split(data_train, [train_size, val_size])"
   ]
  },
  {
   "cell_type": "code",
   "execution_count": 7,
   "id": "78efaff7",
   "metadata": {},
   "outputs": [
    {
     "name": "stdout",
     "output_type": "stream",
     "text": [
      "48000\n",
      "12000\n"
     ]
    }
   ],
   "source": [
    "print(len(data_train))\n",
    "print(len(data_val))"
   ]
  },
  {
   "cell_type": "code",
   "execution_count": 8,
   "id": "a8bc1fa1",
   "metadata": {},
   "outputs": [
    {
     "name": "stdout",
     "output_type": "stream",
     "text": [
      "7062\n"
     ]
    },
    {
     "data": {
      "image/png": "[encoded data removed]",
      "text/plain": [
       "<Figure size 432x288 with 7 Axes>"
      ]
     },
     "metadata": {
      "needs_background": "light"
     },
     "output_type": "display_data"
    }
   ],
   "source": [
    "#visualize the dataset.\n",
    "from random import randint\n",
    "fig,ax = plt.subplots(1,7)\n",
    "start = randint(0,len(data_train) - 7)\n",
    "print(start)\n",
    "for i in range(7):\n",
    "    ax[i].imshow(data_train[start][0].view(28,28))\n",
    "    ax[i].set_title(data_train[start][1])\n",
    "    start = start + 1\n",
    "    ax[i].axis('off')"
   ]
  },
  {
   "cell_type": "code",
   "execution_count": 9,
   "id": "2221576c",
   "metadata": {},
   "outputs": [
    {
     "name": "stdout",
     "output_type": "stream",
     "text": [
      "training samples:  48000\n",
      "validation samples:  12000\n",
      "test samples:  10000\n",
      "structure of the tensor: torch.Size([1, 28, 28])\n",
      "first ten values in the train data set are: [0, 9, 3, 0, 8, 9, 8, 1, 1, 2]\n"
     ]
    }
   ],
   "source": [
    "#more info about the dataset.\n",
    "print(\"training samples: \", len(data_train))\n",
    "print(\"validation samples: \", len(data_val))\n",
    "print(\"test samples: \", len(data_test))\n",
    "print(\"structure of the tensor:\", data_train[0][0].shape)\n",
    "\n",
    "print(\"first ten values in the train data set are:\", [data_train[i][1] for i in range(10)])"
   ]
  },
  {
   "cell_type": "code",
   "execution_count": 10,
   "id": "b968fd74",
   "metadata": {},
   "outputs": [],
   "source": [
    "#define the LeNet model architecture.\n",
    "class LeNet(nn.Module):\n",
    "    def __init__(self):\n",
    "        super(LeNet, self).__init__()\n",
    "        self.conv1 = nn.Conv2d(1, 10, kernel_size=5)\n",
    "        self.conv2 = nn.Conv2d(10, 20, kernel_size=5)\n",
    "        self.conv2_drop = nn.Dropout2d()\n",
    "        self.fc1 = nn.Linear(320, 50)\n",
    "        self.fc2 = nn.Linear(50, 10)\n",
    "\n",
    "    def forward(self, x):\n",
    "        x = F.relu(F.max_pool2d(self.conv1(x), 2))\n",
    "        x = F.relu(F.max_pool2d(self.conv2_drop(self.conv2(x)), 2))\n",
    "        x = x.view(-1, 320)\n",
    "        x = F.relu(self.fc1(x))\n",
    "        x = F.dropout(x, training=self.training)\n",
    "        x = self.fc2(x)\n",
    "        return F.log_softmax(x, dim=1)\n",
    "    \n",
    "    def reset_parameters(self):\n",
    "        for param in self.parameters():\n",
    "            if param.requires_grad:\n",
    "                param.data.uniform_(-0.1, 0.1)  # Reinitialize with desired initialization\n",
    "\n",
    "\n"
   ]
  },
  {
   "cell_type": "code",
   "execution_count": 11,
   "id": "eb790c68",
   "metadata": {},
   "outputs": [],
   "source": [
    "#loading the dataset into the dataLoader.\n",
    "\n",
    "train_loader = DataLoader(data_train, batch_size=64, shuffle=True)\n",
    "val_loader = DataLoader(data_val, batch_size = 64, shuffle=True)\n",
    "test_loader = DataLoader(data_test, batch_size=64)\n"
   ]
  },
  {
   "cell_type": "code",
   "execution_count": 12,
   "id": "afc621b0",
   "metadata": {},
   "outputs": [
    {
     "name": "stdout",
     "output_type": "stream",
     "text": [
      "cuda\n",
      "----------------------------------------------------------------\n",
      "        Layer (type)               Output Shape         Param #\n",
      "================================================================\n",
      "            Conv2d-1           [-1, 10, 24, 24]             260\n",
      "            Conv2d-2             [-1, 20, 8, 8]           5,020\n",
      "         Dropout2d-3             [-1, 20, 8, 8]               0\n",
      "            Linear-4                   [-1, 50]          16,050\n",
      "            Linear-5                   [-1, 10]             510\n",
      "================================================================\n",
      "Total params: 21,840\n",
      "Trainable params: 21,840\n",
      "Non-trainable params: 0\n",
      "----------------------------------------------------------------\n",
      "Input size (MB): 0.00\n",
      "Forward/backward pass size (MB): 0.06\n",
      "Params size (MB): 0.08\n",
      "Estimated Total Size (MB): 0.15\n",
      "----------------------------------------------------------------\n"
     ]
    }
   ],
   "source": [
    "from torchsummary import summary\n",
    "#get the summary of the network.\n",
    "net = LeNet()\n",
    "device = 'cuda' if torch.cuda.is_available() else 'cpu'\n",
    "print(device)\n",
    "net.to(device)\n",
    "\n",
    "summary(net,(1,28,28))"
   ]
  },
  {
   "cell_type": "code",
   "execution_count": 13,
   "id": "57d10fd2",
   "metadata": {},
   "outputs": [],
   "source": [
    "#define the loss function and the optimizer\n",
    "\n",
    "loss = nn.CrossEntropyLoss()    #using the cross-entropy loss that is favored for multi-class classification\n",
    "optimizer = optim.SGD(net.parameters(), lr=0.01, momentum=0.9)  #using the stochastic gradient descent optimizer."
   ]
  },
  {
   "cell_type": "code",
   "execution_count": 14,
   "id": "0aab234b",
   "metadata": {},
   "outputs": [
    {
     "name": "stdout",
     "output_type": "stream",
     "text": [
      "cuda\n"
     ]
    }
   ],
   "source": [
    "print(device)"
   ]
  },
  {
   "cell_type": "code",
   "execution_count": 15,
   "id": "efa18591",
   "metadata": {},
   "outputs": [],
   "source": [
    "# define the train function and the validate function.\n",
    "\n",
    "def train(net, dataloader, lr, optimizer, loss_fn):\n",
    "    optimizer = optimizer or torch.optim.Adam(net.parameters(),lr=lr)\n",
    "    net.train()\n",
    "    total_loss,acc,count = 0,0,0\n",
    "    for features,labels in dataloader:\n",
    "        features = features.to(device)\n",
    "        labels = labels.to(device)\n",
    "        optimizer.zero_grad()\n",
    "        out = net(features)\n",
    "        loss = loss_fn(out,labels) #cross_entropy(out,labels)\n",
    "        loss.backward()\n",
    "        optimizer.step()\n",
    "        total_loss+=loss\n",
    "        _,predicted = torch.max(out,1)\n",
    "        acc+=(predicted==labels).sum()\n",
    "        count+=len(labels)\n",
    "        #print(\"the size of the labels\", len(labels))\n",
    "        \n",
    "    #print(\"count is :\", count)\n",
    "    #print(\"the length of the dataloader is: \", len(dataloader))\n",
    "    return total_loss.item()/count, acc.item()/count\n"
   ]
  },
  {
   "cell_type": "code",
   "execution_count": 16,
   "id": "610b9d8b",
   "metadata": {},
   "outputs": [],
   "source": [
    "\n",
    "def validate(model, dataloader, loss_fn):\n",
    "    model.eval()  # Set the model to evaluation mode\n",
    "\n",
    "    total_samples = 0\n",
    "    correct_predictions = 0\n",
    "    total_loss = 0.0\n",
    "\n",
    "    with torch.no_grad():\n",
    "        for images, labels in dataloader:\n",
    "            images = images.to(device)\n",
    "            labels = labels.to(device)\n",
    "\n",
    "            outputs = model(images)\n",
    "            _, predicted = torch.max(outputs, 1)\n",
    "\n",
    "            total_samples += labels.size(0)\n",
    "            correct_predictions += (predicted == labels).sum().item()\n",
    "\n",
    "            loss = loss_fn(outputs, labels)\n",
    "            total_loss += loss.item()\n",
    "\n",
    "    accuracy = correct_predictions / total_samples\n",
    "    average_loss = total_loss / total_samples\n",
    "    #print(f'Validation Accuracy: {accuracy * 100:.2f}% | Average Loss: {average_loss:.4f}')\n",
    "\n",
    "    #print(\"the total samples is \",total_samples,\" and length of dataloader is \",len(dataloader))\n",
    "    return average_loss, accuracy\n",
    "\n"
   ]
  },
  {
   "cell_type": "code",
   "execution_count": 17,
   "id": "ac680876",
   "metadata": {},
   "outputs": [
    {
     "name": "stdout",
     "output_type": "stream",
     "text": [
      "Epoch  0, Train acc=0.735, Val acc=0.953, Train loss=0.012, Val loss=0.002\n",
      "Epoch  1, Train acc=0.902, Val acc=0.967, Train loss=0.005, Val loss=0.002\n",
      "Epoch  2, Train acc=0.925, Val acc=0.973, Train loss=0.004, Val loss=0.001\n",
      "Epoch  3, Train acc=0.935, Val acc=0.976, Train loss=0.003, Val loss=0.001\n",
      "Epoch  4, Train acc=0.942, Val acc=0.976, Train loss=0.003, Val loss=0.001\n",
      "Epoch  5, Train acc=0.946, Val acc=0.980, Train loss=0.003, Val loss=0.001\n",
      "Epoch  6, Train acc=0.949, Val acc=0.981, Train loss=0.003, Val loss=0.001\n",
      "Epoch  7, Train acc=0.953, Val acc=0.982, Train loss=0.002, Val loss=0.001\n",
      "Epoch  8, Train acc=0.955, Val acc=0.982, Train loss=0.002, Val loss=0.001\n",
      "Epoch  9, Train acc=0.956, Val acc=0.983, Train loss=0.002, Val loss=0.001\n",
      "Epoch 10, Train acc=0.958, Val acc=0.984, Train loss=0.002, Val loss=0.001\n",
      "Epoch 11, Train acc=0.959, Val acc=0.983, Train loss=0.002, Val loss=0.001\n",
      "Epoch 12, Train acc=0.960, Val acc=0.984, Train loss=0.002, Val loss=0.001\n",
      "Epoch 13, Train acc=0.960, Val acc=0.983, Train loss=0.002, Val loss=0.001\n",
      "Epoch 14, Train acc=0.962, Val acc=0.985, Train loss=0.002, Val loss=0.001\n",
      "Epoch 15, Train acc=0.964, Val acc=0.987, Train loss=0.002, Val loss=0.001\n",
      "Epoch 16, Train acc=0.962, Val acc=0.985, Train loss=0.002, Val loss=0.001\n",
      "Epoch 17, Train acc=0.964, Val acc=0.983, Train loss=0.002, Val loss=0.001\n",
      "Epoch 18, Train acc=0.964, Val acc=0.984, Train loss=0.002, Val loss=0.001\n",
      "Epoch 19, Train acc=0.965, Val acc=0.986, Train loss=0.002, Val loss=0.001\n",
      "Epoch 20, Train acc=0.965, Val acc=0.986, Train loss=0.002, Val loss=0.001\n",
      "Epoch 21, Train acc=0.965, Val acc=0.985, Train loss=0.002, Val loss=0.001\n",
      "Epoch 22, Train acc=0.966, Val acc=0.986, Train loss=0.002, Val loss=0.001\n",
      "Epoch 23, Train acc=0.965, Val acc=0.985, Train loss=0.002, Val loss=0.001\n",
      "Epoch 24, Train acc=0.965, Val acc=0.985, Train loss=0.002, Val loss=0.001\n",
      "Epoch 25, Train acc=0.966, Val acc=0.985, Train loss=0.002, Val loss=0.001\n",
      "Epoch 26, Train acc=0.967, Val acc=0.987, Train loss=0.002, Val loss=0.001\n",
      "Epoch 27, Train acc=0.968, Val acc=0.986, Train loss=0.002, Val loss=0.001\n",
      "Epoch 28, Train acc=0.967, Val acc=0.986, Train loss=0.002, Val loss=0.001\n",
      "Epoch 29, Train acc=0.967, Val acc=0.986, Train loss=0.002, Val loss=0.001\n",
      "Epoch 30, Train acc=0.969, Val acc=0.987, Train loss=0.002, Val loss=0.001\n",
      "Epoch 31, Train acc=0.969, Val acc=0.986, Train loss=0.002, Val loss=0.001\n",
      "Epoch 32, Train acc=0.969, Val acc=0.986, Train loss=0.002, Val loss=0.001\n",
      "Epoch 33, Train acc=0.968, Val acc=0.985, Train loss=0.002, Val loss=0.001\n",
      "Epoch 34, Train acc=0.968, Val acc=0.986, Train loss=0.002, Val loss=0.001\n",
      "Epoch 35, Train acc=0.967, Val acc=0.986, Train loss=0.002, Val loss=0.001\n",
      "Epoch 36, Train acc=0.970, Val acc=0.986, Train loss=0.002, Val loss=0.001\n",
      "Epoch 37, Train acc=0.970, Val acc=0.987, Train loss=0.002, Val loss=0.001\n",
      "Epoch 38, Train acc=0.969, Val acc=0.986, Train loss=0.002, Val loss=0.001\n",
      "Epoch 39, Train acc=0.970, Val acc=0.985, Train loss=0.002, Val loss=0.001\n",
      "Epoch 40, Train acc=0.969, Val acc=0.987, Train loss=0.002, Val loss=0.001\n",
      "Epoch 41, Train acc=0.968, Val acc=0.988, Train loss=0.002, Val loss=0.001\n",
      "Epoch 42, Train acc=0.971, Val acc=0.987, Train loss=0.001, Val loss=0.001\n",
      "Epoch 43, Train acc=0.971, Val acc=0.986, Train loss=0.002, Val loss=0.001\n",
      "Epoch 44, Train acc=0.971, Val acc=0.986, Train loss=0.002, Val loss=0.001\n",
      "Epoch 45, Train acc=0.971, Val acc=0.988, Train loss=0.002, Val loss=0.001\n",
      "Epoch 46, Train acc=0.972, Val acc=0.987, Train loss=0.001, Val loss=0.001\n",
      "Epoch 47, Train acc=0.970, Val acc=0.987, Train loss=0.002, Val loss=0.001\n",
      "Epoch 48, Train acc=0.972, Val acc=0.987, Train loss=0.001, Val loss=0.001\n",
      "Epoch 49, Train acc=0.970, Val acc=0.987, Train loss=0.002, Val loss=0.001\n",
      "Epoch 50, Train acc=0.971, Val acc=0.987, Train loss=0.001, Val loss=0.001\n",
      "Epoch 51, Train acc=0.971, Val acc=0.988, Train loss=0.002, Val loss=0.001\n",
      "Epoch 52, Train acc=0.972, Val acc=0.987, Train loss=0.001, Val loss=0.001\n",
      "Epoch 53, Train acc=0.971, Val acc=0.987, Train loss=0.001, Val loss=0.001\n",
      "Epoch 54, Train acc=0.971, Val acc=0.988, Train loss=0.001, Val loss=0.001\n",
      "Epoch 55, Train acc=0.972, Val acc=0.986, Train loss=0.001, Val loss=0.001\n",
      "Epoch 56, Train acc=0.971, Val acc=0.987, Train loss=0.001, Val loss=0.001\n",
      "Epoch 57, Train acc=0.971, Val acc=0.987, Train loss=0.001, Val loss=0.001\n",
      "Epoch 58, Train acc=0.971, Val acc=0.987, Train loss=0.001, Val loss=0.001\n",
      "Epoch 59, Train acc=0.971, Val acc=0.987, Train loss=0.001, Val loss=0.001\n",
      "Epoch 60, Train acc=0.972, Val acc=0.988, Train loss=0.001, Val loss=0.001\n",
      "Epoch 61, Train acc=0.972, Val acc=0.987, Train loss=0.001, Val loss=0.001\n",
      "Epoch 62, Train acc=0.972, Val acc=0.987, Train loss=0.001, Val loss=0.001\n",
      "Epoch 63, Train acc=0.973, Val acc=0.988, Train loss=0.001, Val loss=0.001\n",
      "Epoch 64, Train acc=0.972, Val acc=0.986, Train loss=0.001, Val loss=0.001\n",
      "Epoch 65, Train acc=0.972, Val acc=0.987, Train loss=0.001, Val loss=0.001\n",
      "Epoch 66, Train acc=0.973, Val acc=0.987, Train loss=0.001, Val loss=0.001\n",
      "Epoch 67, Train acc=0.971, Val acc=0.986, Train loss=0.001, Val loss=0.001\n",
      "Epoch 68, Train acc=0.973, Val acc=0.986, Train loss=0.001, Val loss=0.001\n",
      "Epoch 69, Train acc=0.972, Val acc=0.988, Train loss=0.001, Val loss=0.001\n",
      "Epoch 70, Train acc=0.973, Val acc=0.988, Train loss=0.001, Val loss=0.001\n",
      "Epoch 71, Train acc=0.973, Val acc=0.987, Train loss=0.001, Val loss=0.001\n",
      "Epoch 72, Train acc=0.973, Val acc=0.988, Train loss=0.001, Val loss=0.001\n",
      "Epoch 73, Train acc=0.972, Val acc=0.987, Train loss=0.001, Val loss=0.001\n",
      "Epoch 74, Train acc=0.972, Val acc=0.986, Train loss=0.001, Val loss=0.001\n",
      "Epoch 75, Train acc=0.972, Val acc=0.987, Train loss=0.001, Val loss=0.001\n",
      "Epoch 76, Train acc=0.974, Val acc=0.987, Train loss=0.001, Val loss=0.001\n",
      "Epoch 77, Train acc=0.974, Val acc=0.988, Train loss=0.001, Val loss=0.001\n",
      "Epoch 78, Train acc=0.973, Val acc=0.987, Train loss=0.001, Val loss=0.001\n",
      "Epoch 79, Train acc=0.975, Val acc=0.987, Train loss=0.001, Val loss=0.001\n",
      "Epoch 80, Train acc=0.973, Val acc=0.987, Train loss=0.001, Val loss=0.001\n",
      "Epoch 81, Train acc=0.975, Val acc=0.987, Train loss=0.001, Val loss=0.001\n",
      "Epoch 82, Train acc=0.974, Val acc=0.988, Train loss=0.001, Val loss=0.001\n",
      "Epoch 83, Train acc=0.974, Val acc=0.988, Train loss=0.001, Val loss=0.001\n",
      "Epoch 84, Train acc=0.974, Val acc=0.988, Train loss=0.001, Val loss=0.001\n",
      "Epoch 85, Train acc=0.973, Val acc=0.988, Train loss=0.001, Val loss=0.001\n",
      "Epoch 86, Train acc=0.973, Val acc=0.986, Train loss=0.001, Val loss=0.001\n",
      "Epoch 87, Train acc=0.974, Val acc=0.988, Train loss=0.001, Val loss=0.001\n",
      "Epoch 88, Train acc=0.974, Val acc=0.988, Train loss=0.001, Val loss=0.001\n",
      "Epoch 89, Train acc=0.973, Val acc=0.987, Train loss=0.001, Val loss=0.001\n",
      "Epoch 90, Train acc=0.975, Val acc=0.987, Train loss=0.001, Val loss=0.001\n",
      "Epoch 91, Train acc=0.975, Val acc=0.988, Train loss=0.001, Val loss=0.001\n",
      "Epoch 92, Train acc=0.974, Val acc=0.987, Train loss=0.001, Val loss=0.001\n",
      "Epoch 93, Train acc=0.974, Val acc=0.986, Train loss=0.001, Val loss=0.001\n",
      "Epoch 94, Train acc=0.974, Val acc=0.988, Train loss=0.001, Val loss=0.001\n",
      "Epoch 95, Train acc=0.975, Val acc=0.987, Train loss=0.001, Val loss=0.001\n",
      "Epoch 96, Train acc=0.974, Val acc=0.987, Train loss=0.001, Val loss=0.001\n",
      "Epoch 97, Train acc=0.974, Val acc=0.987, Train loss=0.001, Val loss=0.001\n",
      "Epoch 98, Train acc=0.973, Val acc=0.986, Train loss=0.001, Val loss=0.001\n",
      "Epoch 99, Train acc=0.975, Val acc=0.988, Train loss=0.001, Val loss=0.001\n"
     ]
    }
   ],
   "source": [
    "# train the network using the model_train function\n",
    "\n",
    "def model_train(net, train_loader, test_loader, optimizer, lr, epochs, loss):\n",
    "    res = { 'train_loss' : [], 'train_acc': [], 'val_loss': [], 'val_acc': []}\n",
    "    for ep in range(epochs):\n",
    "        tl,ta = train(net, train_loader, lr, optimizer, loss)\n",
    "        vl,va = validate(net, test_loader, loss)\n",
    "        print(f\"Epoch {ep + 1:2}, Train acc={ta:.3f}, Val acc={va:.3f}, Train loss={tl:.3f}, Val loss={vl:.3f}\")\n",
    "#         if ep % 10 == 0 : \n",
    "        res['train_loss'].append(tl) \n",
    "        res['train_acc'].append(ta)\n",
    "        res['val_loss'].append(vl)\n",
    "        res['val_acc'].append(va)\n",
    "    return res\n",
    "\n",
    "epochs = 100\n",
    "hist = model_train(net,train_loader,val_loader, optimizer, 0.01, epochs, loss)"
   ]
  },
  {
   "cell_type": "code",
   "execution_count": 18,
   "id": "57387948",
   "metadata": {},
   "outputs": [
    {
     "data": {
      "text/plain": [
       "<matplotlib.legend.Legend at 0x7f56c64a9930>"
      ]
     },
     "execution_count": 18,
     "metadata": {},
     "output_type": "execute_result"
    },
    {
     "data": {
      "image/png": "[encoded data removed]",
      "text/plain": [
       "<Figure size 1080x360 with 2 Axes>"
      ]
     },
     "metadata": {
      "needs_background": "light"
     },
     "output_type": "display_data"
    }
   ],
   "source": [
    "plt.figure(figsize=(15,5))\n",
    "plt.subplot(121)\n",
    "plt.plot(hist['train_acc'], label='Training acc')\n",
    "plt.plot(hist['val_acc'], label='Validation acc')\n",
    "plt.title('Accuracy')\n",
    "plt.legend()\n",
    "plt.subplot(122)\n",
    "plt.plot(hist['train_loss'], label='Training loss')\n",
    "plt.plot(hist['val_loss'], label='Validation loss')\n",
    "plt.title('Loss')\n",
    "plt.legend()"
   ]
  },
  {
   "cell_type": "code",
   "execution_count": 19,
   "id": "6478ac4b",
   "metadata": {},
   "outputs": [
    {
     "name": "stdout",
     "output_type": "stream",
     "text": [
      "6158\n",
      "the label is: 7\n",
      "7\n"
     ]
    },
    {
     "name": "stderr",
     "output_type": "stream",
     "text": [
      "/usr/lib/python3/dist-packages/torch/nn/functional.py:1338: UserWarning: dropout2d: Received a 3D input to dropout2d and assuming that channel-wise 1D dropout behavior is desired - input is interpreted as shape (N, C, L), where C is the channel dim. This behavior will change in a future release to interpret the input as one without a batch dimension, i.e. shape (C, H, W). To maintain the 1D channel-wise dropout behavior, please switch to using dropout1d instead.\n",
      "  warnings.warn(\"dropout2d: Received a 3D input to dropout2d and assuming that channel-wise \"\n"
     ]
    }
   ],
   "source": [
    "index = torch.randint(len(data_test), size = (1,)).item()\n",
    "print(index)\n",
    "features = data_test[index][0]\n",
    "print(\"the label is:\", data_test[index][1])\n",
    "features = features.to(device)\n",
    "out = net(features)\n",
    "pred = torch.max(out,1)[1]\n",
    "print(pred.item())\n"
   ]
  },
  {
   "cell_type": "code",
   "execution_count": 20,
   "id": "360bb566",
   "metadata": {},
   "outputs": [
    {
     "name": "stdout",
     "output_type": "stream",
     "text": [
      "the length of the test dataset is 10000\n",
      "the total correct guesses is  9899\n",
      "0.9899\n"
     ]
    }
   ],
   "source": [
    "# test the model on the test_dataset\n",
    "\n",
    "def test(net, dataset ):\n",
    "    length = len(dataset)\n",
    "    print(f\"the length of the test dataset is {length}\")\n",
    "    correct = 0\n",
    "    \n",
    "    for i in range(length):\n",
    "        feature = dataset[i][0]\n",
    "        label = dataset[i][1]\n",
    "        \n",
    "        feature = feature.to(device)\n",
    "        \n",
    "        out = net(feature)\n",
    "        pred = torch.max(out,1)[1]\n",
    "        \n",
    "#         if i % 100 == 0:\n",
    "#             print(f\"the label is {label} and it was predicted as {pred.item()}\")\n",
    "        \n",
    "        correct += (pred == label).sum().item()\n",
    "\n",
    "            \n",
    "    \n",
    "    print(\"the total correct guesses is \",correct)\n",
    "    return correct/length   \n",
    "        \n",
    "    \n",
    "    \n",
    "    \n",
    "print(test(net, data_test))"
   ]
  },
  {
   "cell_type": "code",
   "execution_count": 21,
   "id": "a3d53408",
   "metadata": {},
   "outputs": [
    {
     "name": "stdout",
     "output_type": "stream",
     "text": [
      "the length of the test dataset is 10000\n",
      "the total correct guesses is  9899\n",
      "the test accuracy on the test dataset is 98.99\n"
     ]
    }
   ],
   "source": [
    "print(\"the test accuracy on the test dataset is\", test(net, data_test) * 100)"
   ]
  },
  {
   "cell_type": "code",
   "execution_count": 23,
   "id": "5de01123",
   "metadata": {},
   "outputs": [
    {
     "name": "stdout",
     "output_type": "stream",
     "text": [
      "/home/ag8298/Desktop/Summer2023/lenet\n"
     ]
    }
   ],
   "source": [
    "#save the model now.\n",
    "import os\n",
    "\n",
    "path = os.getcwd()\n",
    "print(path)\n",
    "\n",
    "model_path = path+\"/lenet_MNIST.pth\"\n",
    "\n",
    "torch.save(net, model_path)\n"
   ]
  },
  {
   "cell_type": "code",
   "execution_count": 25,
   "id": "91a67ab1",
   "metadata": {},
   "outputs": [
    {
     "name": "stdout",
     "output_type": "stream",
     "text": [
      "/home/ag8298/Desktop/Summer2023/lenet/lenet_MNIST.pth\n"
     ]
    }
   ],
   "source": [
    "print(model_path)"
   ]
  },
  {
   "cell_type": "code",
   "execution_count": 24,
   "id": "41326375",
   "metadata": {},
   "outputs": [
    {
     "data": {
      "image/png": "[encoded data removed]",
      "text/plain": [
       "<Figure size 720x720 with 25 Axes>"
      ]
     },
     "metadata": {
      "needs_background": "light"
     },
     "output_type": "display_data"
    }
   ],
   "source": [
    "#visualize the prediction with the actual label and the predicted label \n",
    "\n",
    "figure = plt.figure(figsize = (10,10))\n",
    "cols, rows = 5,5\n",
    "for i in range(1, cols*rows + 1):\n",
    "    index = torch.randint(len(data_test), size = (1,)).item()\n",
    "    figure.add_subplot(rows, cols, i)\n",
    "    img = data_test[index][0]\n",
    "    label = data_test[index][1]\n",
    "    #------------------------------\n",
    "    features = img\n",
    "    features = features.to(device)\n",
    "    out = net(features)\n",
    "    pred = torch.max(out,1)[1]\n",
    "    #-----------------------------\n",
    "    plt.title(f\"{label}-> pred:{pred.item()}\")\n",
    "    plt.axis(\"off\")\n",
    "    plt.imshow(img.view(28,28))\n",
    "\n",
    "    #plt.imshow(img.numpy().squeeze(),cmap=\"Greys\")           # .squeeze() flattens the given tensor or matrix into 1-d array.\n",
    "plt.show()"
   ]
  },
  {
   "cell_type": "code",
   "execution_count": null,
   "id": "f5e46958",
   "metadata": {},
   "outputs": [],
   "source": []
  }
 ],
 "metadata": {
  "kernelspec": {
   "display_name": "Python 3 (ipykernel)",
   "language": "python",
   "name": "python3"
  },
  "language_info": {
   "codemirror_mode": {
    "name": "ipython",
    "version": 3
   },
   "file_extension": ".py",
   "mimetype": "text/x-python",
   "name": "python",
   "nbconvert_exporter": "python",
   "pygments_lexer": "ipython3",
   "version": "3.10.6"
  }
 },
 "nbformat": 4,
 "nbformat_minor": 5
}
